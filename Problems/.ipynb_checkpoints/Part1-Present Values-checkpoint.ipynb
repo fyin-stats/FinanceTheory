{
 "cells": [
  {
   "cell_type": "code",
   "execution_count": 2,
   "id": "28ed3061-5717-40c9-a661-f5adacdfde65",
   "metadata": {},
   "outputs": [],
   "source": [
    "# This notebook is dedicated to solving the problems in Part 1 of Problem Set (Present Value)"
   ]
  },
  {
   "cell_type": "code",
   "execution_count": 7,
   "id": "a7eaa3ff-e7de-43bd-9026-6e45b3adebfa",
   "metadata": {},
   "outputs": [],
   "source": [
    "import numpy as np\n",
    "import matplotlib.pyplot as plt"
   ]
  },
  {
   "cell_type": "markdown",
   "id": "c8e54302-f805-466a-8bef-90eb87b12ea9",
   "metadata": {},
   "source": [
    "## Problem 1"
   ]
  },
  {
   "cell_type": "code",
   "execution_count": 2,
   "id": "8c0480f6-cb92-4714-860b-2bf7f08cf23d",
   "metadata": {},
   "outputs": [],
   "source": [
    "# $10000 invested in a certificate of deposit (CD) offered by bank. The CD is for 5 years\n",
    "# and the bank quotes you a rate of 4.5%. How much will you have in 5 years if the 4.5% is\n",
    "# (a) an EAR\n",
    "# (b) a quarterly APR?\n",
    "# (c) a monthly APR?"
   ]
  },
  {
   "cell_type": "code",
   "execution_count": 3,
   "id": "77de7e96-b452-4f8c-b318-941831a7187b",
   "metadata": {},
   "outputs": [
    {
     "name": "stdout",
     "output_type": "stream",
     "text": [
      "12461.819376531246\n"
     ]
    }
   ],
   "source": [
    "# if it is an EAR\n",
    "ear = 0.045\n",
    "result = 10000 * (1 + ear)**5\n",
    "print(result)"
   ]
  },
  {
   "cell_type": "code",
   "execution_count": 4,
   "id": "67de9433-f203-4058-aa60-30fb499c6f98",
   "metadata": {},
   "outputs": [
    {
     "name": "stdout",
     "output_type": "stream",
     "text": [
      "12507.505208438148\n"
     ]
    }
   ],
   "source": [
    "# if it is a quarterly APR\n",
    "# we first derive the EAR from quarterly APR, and then start from EAR to derive the final result\n",
    "ear = (1 + 0.045/4)**4 - 1\n",
    "result = 10000 * (1 + ear)**5 \n",
    "print(result)"
   ]
  },
  {
   "cell_type": "code",
   "execution_count": 5,
   "id": "bf771439-59fa-404d-b429-7c7251b1a378",
   "metadata": {},
   "outputs": [
    {
     "name": "stdout",
     "output_type": "stream",
     "text": [
      "12517.958205241686\n"
     ]
    }
   ],
   "source": [
    "# if it is a monthly APR\n",
    "ear = (1 + 0.045/12)**12 - 1\n",
    "result = 10000 * (1 + ear)**5\n",
    "print(result)"
   ]
  },
  {
   "cell_type": "markdown",
   "id": "95cb7264-64bf-49f0-b0bc-67e399104abc",
   "metadata": {},
   "source": [
    "## Problem 2"
   ]
  },
  {
   "cell_type": "code",
   "execution_count": 6,
   "id": "a1dcf5ac-a8ae-4107-8a4a-33e7ef688971",
   "metadata": {},
   "outputs": [],
   "source": [
    "# e-money rates, money market account with an APR of 4.75%. What is the effective annual interest rate offered if the compounding interval is\n",
    "# annual, monthly, weekly and continuously"
   ]
  },
  {
   "cell_type": "code",
   "execution_count": 7,
   "id": "4167da3b-b0ff-4ae5-8d97-b612e48a2e0a",
   "metadata": {},
   "outputs": [],
   "source": [
    "def ear(apr, n):\n",
    "    return (1 + apr/n)**n"
   ]
  },
  {
   "cell_type": "code",
   "execution_count": 16,
   "id": "9822048b-40e6-48b5-979f-e646b7727e33",
   "metadata": {},
   "outputs": [
    {
     "name": "stdout",
     "output_type": "stream",
     "text": [
      "effective annual interest rate if annual compounding: 0.0475000000000001\n",
      "effective annual interest rate if monthly compounding: 0.04854788144588551\n",
      "effective annual interest rate if weekly compounding: 0.048623465135655186\n",
      "effective annual interest rate if continuous compounding: 0.048646189291226216\n",
      "0.04864620112128515\n"
     ]
    }
   ],
   "source": [
    "print('effective annual interest rate if annual compounding: ' +  str(ear(0.0475, 1) - 1))\n",
    "\n",
    "print('effective annual interest rate if monthly compounding: ' +  str(ear(0.0475, 12) - 1))\n",
    "\n",
    "print('effective annual interest rate if weekly compounding: ' +  str(ear(0.0475, 52) - 1))\n",
    "\n",
    "print('effective annual interest rate if continuous compounding: ' +  str(ear(0.0475, 100000) - 1)) # should be a close enough approximation\n",
    "\n",
    "# exact value for continuously compounding is going to be \n",
    "print(np.exp(0.0475) - 1)"
   ]
  },
  {
   "cell_type": "markdown",
   "id": "4e181da4-e22e-449a-b67b-9981e7db36b0",
   "metadata": {},
   "source": [
    "## Problem 3"
   ]
  },
  {
   "cell_type": "code",
   "execution_count": 18,
   "id": "6c47cff2-60d9-406b-be34-60572a00e463",
   "metadata": {},
   "outputs": [],
   "source": [
    "# CD: invest $50000, 2yrs, bank rate 4%; how much will you have in 2yrs?\n",
    "# EAR?\n",
    "# quarterly APR?\n",
    "# a monthly APR?"
   ]
  },
  {
   "cell_type": "code",
   "execution_count": 19,
   "id": "09504622-cf64-49f2-9bce-693e7dfea91b",
   "metadata": {},
   "outputs": [
    {
     "data": {
      "text/plain": [
       "54080.00000000001"
      ]
     },
     "execution_count": 19,
     "metadata": {},
     "output_type": "execute_result"
    }
   ],
   "source": [
    "# if EAR, we can take 4% as it is\n",
    "50000 * (1 + 0.04)**2"
   ]
  },
  {
   "cell_type": "code",
   "execution_count": 22,
   "id": "31a80942-b5bc-47a7-970c-9c1d555136f0",
   "metadata": {},
   "outputs": [
    {
     "data": {
      "text/plain": [
       "54142.83528140401"
      ]
     },
     "execution_count": 22,
     "metadata": {},
     "output_type": "execute_result"
    }
   ],
   "source": [
    "# quarterly APR?\n",
    "# if quarterly APR means APR = 4% with quarterly compounding\n",
    "50000 * ((1 + 0.04/4)**4)**2 # idea: first convert it to effective annual rate, and then do the regular computation"
   ]
  },
  {
   "cell_type": "code",
   "execution_count": 24,
   "id": "90635620-a19c-47ef-a4dd-3b7e86d89320",
   "metadata": {},
   "outputs": [
    {
     "data": {
      "text/plain": [
       "54157.14795795331"
      ]
     },
     "execution_count": 24,
     "metadata": {},
     "output_type": "execute_result"
    }
   ],
   "source": [
    "# monthly APR?\n",
    "50000 * ((1 + 0.04/12)**12)**2"
   ]
  },
  {
   "cell_type": "markdown",
   "id": "952a2f58-154a-4ed9-996a-27ac78a3f52f",
   "metadata": {},
   "source": [
    "## Problem 4"
   ]
  },
  {
   "cell_type": "code",
   "execution_count": 25,
   "id": "23741a1d-1d21-4d78-91e0-bc4bdfdd1a5a",
   "metadata": {},
   "outputs": [],
   "source": [
    "# $10000 in CD, the CD is for 5 years and the bank quotes you a rate of 4.5%. How much will you have in 5 years if 4.5% is\n",
    "# an EAR\n",
    "# a quarterly APR\n",
    "# a monthly APR"
   ]
  },
  {
   "cell_type": "code",
   "execution_count": 26,
   "id": "55a6c051-5508-4cbe-bcff-f1b3d1ab6237",
   "metadata": {},
   "outputs": [
    {
     "data": {
      "text/plain": [
       "12461.819376531246"
      ]
     },
     "execution_count": 26,
     "metadata": {},
     "output_type": "execute_result"
    }
   ],
   "source": [
    "# EAR\n",
    "10000 * (1 + 0.045)**5"
   ]
  },
  {
   "cell_type": "code",
   "execution_count": 29,
   "id": "e9ea5e14-4f52-4401-87a3-50e1740f2607",
   "metadata": {},
   "outputs": [
    {
     "data": {
      "text/plain": [
       "12507.505208438148"
      ]
     },
     "execution_count": 29,
     "metadata": {},
     "output_type": "execute_result"
    }
   ],
   "source": [
    "# quarterly APR: APR with quarterly compounding\n",
    "10000 * ((1 + 0.045/4)**4)**5"
   ]
  },
  {
   "cell_type": "code",
   "execution_count": 30,
   "id": "828e8de4-3652-4fd2-aa6e-5bd6635581d0",
   "metadata": {},
   "outputs": [
    {
     "data": {
      "text/plain": [
       "12517.958205241686"
      ]
     },
     "execution_count": 30,
     "metadata": {},
     "output_type": "execute_result"
    }
   ],
   "source": [
    "# monthly APR\n",
    "10000 * ((1 + 0.045/12)**12)**5"
   ]
  },
  {
   "cell_type": "markdown",
   "id": "d39554f3-fa9f-42e1-9361-557abd6b9c75",
   "metadata": {},
   "source": [
    "## Problem 5"
   ]
  },
  {
   "cell_type": "code",
   "execution_count": 31,
   "id": "1a478e4f-2291-4f33-957a-e7ad20f3069b",
   "metadata": {},
   "outputs": [],
   "source": [
    "# e-Money rates, APR of 5.25%. What is the EAR if compounding interval is annual, monthly, daily"
   ]
  },
  {
   "cell_type": "code",
   "execution_count": 32,
   "id": "b9348953-d8a1-4b14-9ba1-f01fd9b38b4d",
   "metadata": {},
   "outputs": [],
   "source": [
    "def ear(apr, n):\n",
    "    return (1 + apr/n)**n"
   ]
  },
  {
   "cell_type": "code",
   "execution_count": 34,
   "id": "fa4f08f6-3da7-425c-8f32-667b9eb48d06",
   "metadata": {},
   "outputs": [
    {
     "data": {
      "text/plain": [
       "1.0525"
      ]
     },
     "execution_count": 34,
     "metadata": {},
     "output_type": "execute_result"
    }
   ],
   "source": [
    "ear(0.0525, 1)"
   ]
  },
  {
   "cell_type": "code",
   "execution_count": 35,
   "id": "84ad412e-ec6b-4106-b9f4-7765476eec8a",
   "metadata": {},
   "outputs": [
    {
     "data": {
      "text/plain": [
       "1.0537818867274613"
      ]
     },
     "execution_count": 35,
     "metadata": {},
     "output_type": "execute_result"
    }
   ],
   "source": [
    "ear(0.0525, 12)"
   ]
  },
  {
   "cell_type": "code",
   "execution_count": 36,
   "id": "307a1ae6-b9e7-442d-90f0-728cf7456c8d",
   "metadata": {},
   "outputs": [
    {
     "data": {
      "text/plain": [
       "1.0538985832635184"
      ]
     },
     "execution_count": 36,
     "metadata": {},
     "output_type": "execute_result"
    }
   ],
   "source": [
    "ear(0.0525, 365)"
   ]
  },
  {
   "cell_type": "code",
   "execution_count": 37,
   "id": "9191a020-972a-4ed3-a496-cd60404ad131",
   "metadata": {},
   "outputs": [
    {
     "data": {
      "text/plain": [
       "1.0539025605238754"
      ]
     },
     "execution_count": 37,
     "metadata": {},
     "output_type": "execute_result"
    }
   ],
   "source": [
    "ear(0.0525, 10**6)"
   ]
  },
  {
   "cell_type": "markdown",
   "id": "e865ce17-4748-4d05-b69d-dedf58656726",
   "metadata": {},
   "source": [
    "## Problem 6"
   ]
  },
  {
   "cell_type": "code",
   "execution_count": 38,
   "id": "c34a77d1-e68c-4cf0-b5f2-68bce00bdf0f",
   "metadata": {},
   "outputs": [],
   "source": [
    "# True, false of it depends: PV is sometimes calculated by discounting free cash flow for several years, say from\n",
    "# year 1 to T, and then discounting a forecasted terminal value at horizon date T. The choice of the horizon date\n",
    "# can have a significant effect on PV, particularly for rapidly growing firms."
   ]
  },
  {
   "cell_type": "code",
   "execution_count": 1,
   "id": "7f91d418-a61e-4a6b-9519-bb8c6e8e09fd",
   "metadata": {},
   "outputs": [],
   "source": [
    "# My Answer: False. PV has its definition, which does not depend on how it is estimated empirically. \n",
    "\n",
    "# Answer according to the solution: False. The choice of the horizon date should not affect the present value. "
   ]
  },
  {
   "cell_type": "markdown",
   "id": "b3edc010-dc9a-48e2-a01c-045a4afb110a",
   "metadata": {},
   "source": [
    "## Problem 7"
   ]
  },
  {
   "cell_type": "code",
   "execution_count": 4,
   "id": "661f6442-a6ba-44c9-bb7e-bff1627adf0b",
   "metadata": {},
   "outputs": [],
   "source": [
    "# sps you invest $10000 per year for 10 years at average return of 5.5%\n",
    "# the average future inflation is 2% per year"
   ]
  },
  {
   "cell_type": "code",
   "execution_count": 10,
   "id": "a4a06b3c-5274-4173-8f3d-419c2cb60159",
   "metadata": {},
   "outputs": [
    {
     "data": {
      "text/plain": [
       "135834.98246600744"
      ]
     },
     "execution_count": 10,
     "metadata": {},
     "output_type": "execute_result"
    }
   ],
   "source": [
    "# what's your ending investment balance if you make investment immediately\n",
    "sum([10000 * (1 + 0.055)**(10-i) for i in range(10)]) # end of year 10"
   ]
  },
  {
   "cell_type": "code",
   "execution_count": 12,
   "id": "4cbcf058-4c1b-45c8-a58c-3361a21f34ec",
   "metadata": {},
   "outputs": [],
   "source": [
    "# what's the NPV of this investment? you need cost of capital"
   ]
  },
  {
   "cell_type": "code",
   "execution_count": 9,
   "id": "e4d7ae4b-fef0-45dc-94bd-cf33903cae10",
   "metadata": {},
   "outputs": [
    {
     "data": {
      "text/plain": [
       "111431.99692956072"
      ]
     },
     "execution_count": 9,
     "metadata": {},
     "output_type": "execute_result"
    }
   ],
   "source": [
    "# what's its purchasing power in today's dollars\n",
    "135834.98246600744 / (1+0.02)**10"
   ]
  },
  {
   "cell_type": "markdown",
   "id": "074c3f93-7b8e-4c68-a82e-506f75bf8d99",
   "metadata": {},
   "source": [
    "## Problem 8"
   ]
  },
  {
   "cell_type": "code",
   "execution_count": 2,
   "id": "52c97156-c06a-4c72-b1f5-dcfe7edef8cd",
   "metadata": {},
   "outputs": [],
   "source": [
    "# Overhaul of a production line generates the following incremental cash inflows\n",
    "# over the line's 5-yr remainig life\n",
    "# in millions\n",
    "# C1: 1.5\n",
    "# C2: 1.3\n",
    "# C3: 1.05\n",
    "# C4: 0.9\n",
    "# C5: 0.75"
   ]
  },
  {
   "cell_type": "code",
   "execution_count": 5,
   "id": "3ac52fbf-2cc9-486b-9e30-08af6bd9529f",
   "metadata": {},
   "outputs": [
    {
     "name": "stdout",
     "output_type": "stream",
     "text": [
      "4.1205434276594195\n"
     ]
    }
   ],
   "source": [
    "# what is the PV of the inflows? The cost of capital is 12%\n",
    "cash_inflows = [1.5, 1.3, 1.05, 0.9, 0.75]\n",
    "r = 0.12\n",
    "\n",
    "pv = sum([x / (1 + r)**(i+1) for i, x in enumerate(cash_inflows)])\n",
    "print(pv)"
   ]
  },
  {
   "cell_type": "code",
   "execution_count": 16,
   "id": "8919b4bf-0152-44a4-9e09-cf82540dea79",
   "metadata": {},
   "outputs": [],
   "source": [
    "# ???\n",
    "# part (a) uses nominal discount rate and the cash inflows incorporated inflation\n",
    "\n",
    "# cash inflows incorporated inflation -> real cashflow -> multiply inflation factor to convert to nomina\n",
    "# nomianl discount rate -> multiply inflation to convert to real interest rate\n",
    "\n",
    "# Redo part (a) with real cashflows and a real discount rate，the forecasted inflation rate is 3% per year\n",
    "# real cashflows: expressed in constant purchasing power\n",
    "# real rate: interest rate adjuted for inflation\n",
    "\n",
    "# nominal cashflows: expressed in actual dollar cashflows\n",
    "# nominal rate: actual prevailing interest rate\n",
    "\n",
    "# discount real cashflows with real interest rates\n",
    "# discount nominal cashflows using nominal interest rates\n",
    "\n",
    "inflation_rate = 0.03\n",
    "\n",
    "# Inflation affects the cash flow and the discount rate equally, and the two effects cancel out\n",
    "# in the PV calculation.\n",
    "\n",
    "# Nominal cash flow is the cash flow (CF) without any adjustment for inflation. \n",
    "# Real CF then is adjusted for inflation.\n",
    "\n",
    "# If your company has a Nominal CF of 1,000 and the inflation rate is 5%, \n",
    "# your Real CF is 952.38.\n",
    "# https://www.quora.com/How-can-I-find-real-cash-flows-when-nominal-cash-flows-are-given\n",
    "\n",
    "# To find real cash flows from nominal cash flows,\n",
    "# you need to adjust the nominal cash flows for inflation. \n",
    "# This process allows you to understand the purchasing power of your cash flows \n",
    "# in terms of constant dollars. "
   ]
  },
  {
   "cell_type": "markdown",
   "id": "6da74b79-7f14-4660-9194-89dd9d6cf3ce",
   "metadata": {},
   "source": [
    "## Problem 9"
   ]
  },
  {
   "cell_type": "code",
   "execution_count": 34,
   "id": "12ba6c58-66da-4a5d-85c5-cba15ff3089b",
   "metadata": {},
   "outputs": [
    {
     "name": "stdout",
     "output_type": "stream",
     "text": [
      "441285.7055664062\n"
     ]
    }
   ],
   "source": [
    "# idea, figure out the pv, and then find the constant cashflow that would be equal to your pv given\n",
    "# discount rate\n",
    "pv = sum([ (100000 * (1+0.05)**i) / (1+0.12)**i for i in range(0, 5)])\n",
    "print(pv)"
   ]
  },
  {
   "cell_type": "code",
   "execution_count": 33,
   "id": "162fbae1-9092-4063-a998-705bd32baba5",
   "metadata": {},
   "outputs": [
    {
     "data": {
      "text/plain": [
       "109300.84758088696"
      ]
     },
     "execution_count": 33,
     "metadata": {},
     "output_type": "execute_result"
    }
   ],
   "source": [
    "pv / sum([(1/1.12) ** i for i in range(5)])"
   ]
  },
  {
   "cell_type": "markdown",
   "id": "60148e51-22bd-4646-9abe-82efbac156ef",
   "metadata": {},
   "source": [
    "## Problem 10"
   ]
  },
  {
   "cell_type": "code",
   "execution_count": 1,
   "id": "099ea2ac-00cd-4600-9461-45622f154655",
   "metadata": {},
   "outputs": [],
   "source": [
    "# two dealers compete to sell you a new Hummer with a list price of 45000. \n",
    "# C: 40000 cash\n",
    "# F: 48 monthly payments of 937.50"
   ]
  },
  {
   "cell_type": "code",
   "execution_count": 10,
   "id": "d152e99f-d4c0-4eb9-a5b5-bda336f5464e",
   "metadata": {},
   "outputs": [
    {
     "name": "stdout",
     "output_type": "stream",
     "text": [
      "-43228.21590262442\n"
     ]
    }
   ],
   "source": [
    "# you can finance purchase by withdrawls from a money market fund yielding 2% per year. Which deal is better\n",
    "pv_c = -40000 # cash option\n",
    "\n",
    "# if 2% is apr -> r = 0.02/12\n",
    "# if 2% is ear -> \n",
    "# note r_ear = (1 + r/n)^n - 1\n",
    "r = ((1.02)**(1/12) - 1) * 12\n",
    "\n",
    "pv_f = sum( [-937.50 / (1+r/12)**i for i in range(1, 49)] ) # finance option\n",
    "print(pv_f)\n",
    "\n",
    "# cash option costs less"
   ]
  },
  {
   "cell_type": "code",
   "execution_count": 15,
   "id": "a1b8f1d5-10f1-4f19-94e7-5a95b8612d71",
   "metadata": {},
   "outputs": [
    {
     "name": "stdout",
     "output_type": "stream",
     "text": [
      "-34270.95002066465\n"
     ]
    }
   ],
   "source": [
    "# you can always carry unpaid credit card balances charging 15% per year. Which deal is better?\n",
    "# 0.15 is apr?\n",
    "\n",
    "pv_c = -40000\n",
    "\n",
    "r = ((1.15)**(1/12) - 1) * 12\n",
    "pv_f = sum( [-937.50 / (1+r/12)**i for i in range(1, 49)] ) # finance option\n",
    "print(pv_f)\n",
    "\n",
    "# cash options costs more"
   ]
  },
  {
   "cell_type": "markdown",
   "id": "e99bbc58-cb82-4177-8e25-cd4b68f5bafa",
   "metadata": {},
   "source": [
    "## Problem 11"
   ]
  },
  {
   "cell_type": "code",
   "execution_count": 16,
   "id": "e16bd342-da09-4a03-ae1b-5bab6af9c3e3",
   "metadata": {},
   "outputs": [],
   "source": [
    "# sales 10MM, expected to grow 5% in real terms for the next 3 years\n",
    "# nominal discount rate = 10% per year\n",
    "# inflation expected to be 2% per year\n",
    "\n",
    "# what is the present value of your sales revenue for the next 3 years"
   ]
  },
  {
   "cell_type": "code",
   "execution_count": 27,
   "id": "2a060d19-e088-41fa-acd7-6eb3528b7a0a",
   "metadata": {},
   "outputs": [
    {
     "name": "stdout",
     "output_type": "stream",
     "text": [
      "28.445800232907594\n"
     ]
    }
   ],
   "source": [
    "# (Real CF)_t = (Nominal CF)_t / (1 + i)^t\n",
    "\n",
    "# Year 1 Nominal sales forecast 10**7 * (1.05) * (1.02)\n",
    "# Year 2 Nominal sales forecast 10**7 * (1.05)^2 * (1.02)^2\n",
    "# Year 3 Nominal sales forecast 10**7 * (1.05)^3 * (1.02)^3\n",
    "\n",
    "pv = (10**7) * sum([ ((1.05*1.02)/1.1) ** i for i in range(1, 4)])\n",
    "print(pv/(10**6)) # 28.4458MM"
   ]
  },
  {
   "cell_type": "markdown",
   "id": "0444373c-49d0-4e31-85c8-136c65644dae",
   "metadata": {},
   "source": [
    "## Problem 12"
   ]
  },
  {
   "cell_type": "code",
   "execution_count": 28,
   "id": "4fe720a7-c905-4cde-bb8e-d71bbc15f215",
   "metadata": {},
   "outputs": [],
   "source": [
    "# Company ABC's after-tax cash flow is $10 million (at the end of) this year and expected to grow at 5% per year forever\n",
    "# the appropriate discount rate is 9%. What's the value of company ABC?"
   ]
  },
  {
   "cell_type": "code",
   "execution_count": 47,
   "id": "dc7db254-95b5-47a9-bb51-b2225e00dd8c",
   "metadata": {},
   "outputs": [
    {
     "name": "stdout",
     "output_type": "stream",
     "text": [
      "(249.99999999999997, 249.99999999999997, 249.99999999999997)\n"
     ]
    },
    {
     "data": {
      "text/plain": [
       "249.99999999999977"
      ]
     },
     "execution_count": 47,
     "metadata": {},
     "output_type": "execute_result"
    }
   ],
   "source": [
    "# Nominal after-tax cashflow forecast (unit: Million)\n",
    "# Year 1 (End of current year) CF: 10, discount factor\n",
    "# Year 2 CF: 10 * (1+0.05)**1\n",
    "# ...\n",
    "# Year n CF: 10 * (1 + 0.05)**n\n",
    "\n",
    "def f(n):\n",
    "    return sum([10/1.09 * ((1+0.05)/(1+0.09)) ** (i-1) for i in range(1, n)])\n",
    "\n",
    "print((f(1000), f(10000), f(10**6))) # converge to 262.5 Million\n",
    "\n",
    "# theoretical value S = a + ar + ar^2 + ... + ar^n + ... + ar^inf\n",
    "10/(1.09-1.05) # 250 million"
   ]
  },
  {
   "cell_type": "markdown",
   "id": "0a8c70e7-2961-4aa3-9f24-f8da67dcd852",
   "metadata": {},
   "source": [
    "## Problem 13"
   ]
  },
  {
   "cell_type": "code",
   "execution_count": 50,
   "id": "3a1a0b87-ac4b-438e-bb2c-18258778d433",
   "metadata": {},
   "outputs": [],
   "source": [
    "# you own three oil in Texas. \n",
    "# They are expected to produce 7000 barrels next year in total, but production is declining by 6 percent year after that.\n",
    "# fortunately, you have a contract fixing the selling price at $15 per barrel for the next 12 years\n",
    "# what's the present value of the revenues from the well during the remaining life of the contract?\n",
    "# assume a discount rate of 8 percent"
   ]
  },
  {
   "cell_type": "code",
   "execution_count": 55,
   "id": "e9313e8a-af6d-4173-a362-a805294a7eab",
   "metadata": {},
   "outputs": [
    {
     "name": "stdout",
     "output_type": "stream",
     "text": [
      "608254.1212260958\n"
     ]
    },
    {
     "data": {
      "text/plain": [
       "3544.087450744438"
      ]
     },
     "execution_count": 55,
     "metadata": {},
     "output_type": "execute_result"
    }
   ],
   "source": [
    "# Year 1: 7000 barrels * 15/barrel\n",
    "# Year 2: 7000 barrels * (1 - 0.06) * 15/barrel\n",
    "# ...\n",
    "# Year n: 7000 barrels * (1 - 0.06)**(n-1) * 15 barrel\n",
    "\n",
    "pv = sum([ 15 * (7000/1.08) * ((1-0.06)/(1+0.08))**(i-1) for i in range(1, 13) ])\n",
    "print(pv)\n",
    "\n",
    "# year 12 production: \n",
    "7000 * (1-0.06)**11 # 3544 barrels"
   ]
  },
  {
   "cell_type": "markdown",
   "id": "690dcf5b-92ce-4bf2-90a3-caf485bdce1b",
   "metadata": {},
   "source": [
    "## Problem 14"
   ]
  },
  {
   "cell_type": "code",
   "execution_count": 59,
   "id": "2f1b7c3e-d15f-44dd-9c2e-6dee4ae295aa",
   "metadata": {},
   "outputs": [],
   "source": [
    "# geothermal station: cashflow at a current rate of 14MM per year, after maintenance, all operating expenses and taxes\n",
    "# the cash flow is expected to grow at the inflation rate, which is forecasted at 2% per year. The opportunity cost of capital is 8%\n",
    "# about 3% above long-term treasury rate (annually compounded rate)"
   ]
  },
  {
   "cell_type": "code",
   "execution_count": 62,
   "id": "8ea6792c-ae5d-439a-bc3b-fbb7e813b7c3",
   "metadata": {},
   "outputs": [
    {
     "data": {
      "text/plain": [
       "233.33333333333312"
      ]
     },
     "execution_count": 62,
     "metadata": {},
     "output_type": "execute_result"
    }
   ],
   "source": [
    "# 1, what's the expected value of the power station, assume the first cash flow is received once a year\n",
    "\n",
    "# assuming 14MM is nominal cashflow, and the nominal cashflow grows at 2%, and opportunity cost is also nominal discount rate\n",
    "# this is a perpetuity with growing cashflow\n",
    "14 / (1.08 - 1.02)"
   ]
  },
  {
   "cell_type": "code",
   "execution_count": 71,
   "id": "932400b5-4ab7-44d0-8198-1f67f1b5c4c0",
   "metadata": {},
   "outputs": [
    {
     "name": "stdout",
     "output_type": "stream",
     "text": [
      "244.9333188146528\n"
     ]
    }
   ],
   "source": [
    "# 2, assume that the power stations cash flow is generated in a continuous stream, starting immediately. what's the present value?\n",
    "# assume apr = 0.02\n",
    "# then ear with continuous compounding is \n",
    "# continuously compounded rate \n",
    "r = np.log(1.08/1.02)\n",
    "pv = 14/r # perpetuity formula\n",
    "print(pv)\n",
    "\n",
    "# ???"
   ]
  },
  {
   "cell_type": "markdown",
   "id": "735605ba-7a3c-47c5-a303-ded5f04187cf",
   "metadata": {},
   "source": [
    "## Problem 15"
   ]
  },
  {
   "cell_type": "code",
   "execution_count": 72,
   "id": "d5689af2-c6d6-4b49-8728-6a40ac92b66d",
   "metadata": {},
   "outputs": [],
   "source": [
    "# scholarship"
   ]
  },
  {
   "cell_type": "code",
   "execution_count": 78,
   "id": "f5120160-458c-4116-b449-d54835e88de2",
   "metadata": {},
   "outputs": [
    {
     "name": "stdout",
     "output_type": "stream",
     "text": [
      "-25303.030636590964\n"
     ]
    }
   ],
   "source": [
    "# pv of the first scholarship from foundation's perspective\n",
    "# year 1 CF: -20000\n",
    "# year 2 CF: -20000\n",
    "# year 3 CF: -20000\n",
    "# year 4 CF: -20000\n",
    "# year 6 CF: 8000\n",
    "# ...\n",
    "# year \n",
    "pv = sum( [-20000/(1+0.06)**i for i in range(1, 5)] ) + sum( [8000/(1+0.06)**i for i in range(6, 16)] )\n",
    "print(pv)"
   ]
  },
  {
   "cell_type": "code",
   "execution_count": 82,
   "id": "e9f3bc7f-9e25-4553-9ec4-13c1ff448baf",
   "metadata": {},
   "outputs": [
    {
     "data": {
      "text/plain": [
       "-447019.6666666667"
      ]
     },
     "execution_count": 82,
     "metadata": {},
     "output_type": "execute_result"
    }
   ],
   "source": [
    "# the foundation invests a lump sum to fund all future scholarships. Determine the size of the investment today\n",
    "# it loses 25303 per year begining from t = 0, the pv of this perpetuity is \n",
    "- 25303 / (0.06) - 25303 \n",
    "# -447019.67"
   ]
  },
  {
   "cell_type": "markdown",
   "id": "099526e4-5f72-478c-ae97-012fed9e40d5",
   "metadata": {},
   "source": [
    "## Problem 16"
   ]
  },
  {
   "cell_type": "code",
   "execution_count": 85,
   "id": "900e2365-4de8-45d0-8691-5af7ac6aa79d",
   "metadata": {},
   "outputs": [],
   "source": [
    "# you signed a rental lease for an office space in the back bay for five years with an annual rent of 1MM,\n",
    "# paid at the beginning of each year of the lease\n",
    "# property owner want to buy back\n",
    "# the rent for similar space is now 1.25MM per year, what would be the minimum compensation that you would ask from the property owner?\n",
    "# assume the interest rate to be 6%"
   ]
  },
  {
   "cell_type": "code",
   "execution_count": 89,
   "id": "ac03ceec-41d5-47f3-8803-3a980cd55452",
   "metadata": {},
   "outputs": [
    {
     "name": "stdout",
     "output_type": "stream",
     "text": [
      "1.1162764031749142\n",
      "Minimum compensation you should ask from the owner is: 1.1162764031749142MM dollars\n"
     ]
    }
   ],
   "source": [
    "# if I get to keep the space, I'd expect the following cashflows\n",
    "# year 0: -1MM + 1.25MM\n",
    "# year 1: -1MM + 1.25MM \n",
    "# year 2: -1MM + 1.25MM\n",
    "# year 3: -1MM + 1.25MM\n",
    "# year 4: -1MM + 1.25MM\n",
    "\n",
    "pv = sum( [0.25/(1+0.06)**i for i in range(5)] )\n",
    "print(pv) # 1.116M\n",
    "\n",
    "print(\"Minimum compensation you should ask from the owner is: \" + str(pv) + \"MM dollars\")"
   ]
  },
  {
   "cell_type": "markdown",
   "id": "eb13633c-57f5-421f-a035-1763b9987eca",
   "metadata": {},
   "source": [
    "## Problem 17"
   ]
  },
  {
   "cell_type": "code",
   "execution_count": 91,
   "id": "2fe7130f-6a9d-4b5b-afef-0cb6ad80e881",
   "metadata": {},
   "outputs": [],
   "source": [
    "# The annual membership fee at your health club is $750 a year and is expected to increase at a 5% per year\n",
    "# a life membership is 7500 and the discount rate is 12%. In order to justify taking out the life membership \n",
    "# what would be your minimum life expetancy"
   ]
  },
  {
   "cell_type": "code",
   "execution_count": 101,
   "id": "64136be2-c61f-4274-a6a7-1377bc862058",
   "metadata": {},
   "outputs": [
    {
     "name": "stdout",
     "output_type": "stream",
     "text": [
      "16\n"
     ]
    }
   ],
   "source": [
    "# given you pay 750 per year for n years, from your perspective, the pv is\n",
    "def f(c, n):\n",
    "    return sum([-750 * (1.05/1.12)**i for i in range(n)])\n",
    "\n",
    "pv_n = [f(750, n) for n in range(25)] \n",
    "\n",
    "\n",
    "# bisect_left operates the same way as bisect but in the case of a \"tie\" it will return the index to the \"left\" of the match\n",
    "for i in range(25):\n",
    "    # find the first element where paying by year would cost more (lower pv)\n",
    "    if pv_n[i] <= -7500:\n",
    "        print(i)\n",
    "        break\n",
    "\n",
    "# i = 16"
   ]
  },
  {
   "cell_type": "markdown",
   "id": "b6d42214-2a8f-4dfb-81d9-7840e0875461",
   "metadata": {},
   "source": [
    "## Problem 18"
   ]
  },
  {
   "cell_type": "code",
   "execution_count": 103,
   "id": "fe775012-1ad7-479e-9f95-29a3e8fb418d",
   "metadata": {},
   "outputs": [],
   "source": [
    "# car worth 30000\n",
    "# downpayment = 3500, pay over 5 years, interest charged at 2% annual interest rate per year"
   ]
  },
  {
   "cell_type": "code",
   "execution_count": 104,
   "id": "92e03aac-ffcd-40fa-b0af-43e171f29537",
   "metadata": {},
   "outputs": [],
   "source": [
    "# 1, what is the annual payment\n",
    "# Let the annual payment = C\n",
    "# the annual payment discounted at dealer's rate must be equal to the price"
   ]
  },
  {
   "cell_type": "markdown",
   "id": "f5e5d457-a9a5-4ef8-9eb4-223898d7d715",
   "metadata": {},
   "source": [
    "$3500 + [C \\times \\frac{1}{1.02} + ... + C \\times (\\frac{1}{1.02})^5] = 30000$"
   ]
  },
  {
   "cell_type": "code",
   "execution_count": 128,
   "id": "f2868325-a8f7-4f8e-951e-6310064746e9",
   "metadata": {},
   "outputs": [
    {
     "name": "stdout",
     "output_type": "stream",
     "text": [
      "5622.1974437645395\n"
     ]
    }
   ],
   "source": [
    "C = 26500 / sum([ (1/(1.02))**i for i in range(1, 6) ])\n",
    "print(C)"
   ]
  },
  {
   "cell_type": "code",
   "execution_count": 113,
   "id": "fb0e3e91-5fd4-4526-8950-7faca2c5722c",
   "metadata": {},
   "outputs": [
    {
     "data": {
      "text/plain": [
       "27841.172670458807"
      ]
     },
     "execution_count": 113,
     "metadata": {},
     "output_type": "execute_result"
    }
   ],
   "source": [
    "# 2, 2500 rebate, and I can save at a higher rate at 5%\n",
    "# all cash option: pv = 27500\n",
    "# finance option, I know I'll pay C per year\n",
    "# but we should use interest rate as opportunity cost to discount future cashflow\n",
    "\n",
    "3500 + sum([ C/(1+0.05)**i for i in range(1, 6)]) # 27841 > 27500, therefore you should prefer cash"
   ]
  },
  {
   "cell_type": "markdown",
   "id": "14d6d0d4-e1e4-4e00-b08c-4e9d8788b352",
   "metadata": {},
   "source": [
    "## Problem 19"
   ]
  },
  {
   "cell_type": "code",
   "execution_count": 122,
   "id": "c9f71ba7-553c-42f1-b3a1-67e656edb190",
   "metadata": {},
   "outputs": [
    {
     "name": "stdout",
     "output_type": "stream",
     "text": [
      "0.00643403011000343\n"
     ]
    }
   ],
   "source": [
    "# monthly payment = C, \n",
    "# the monthly payment discounted at 8% should be equal to the total amount of I lend\n",
    "\n",
    "# fair monthly rate is (1 + 0.08)**(1/12) - 1\n",
    "r = (1+0.08)**(1/12) - 1\n",
    "print(r)"
   ]
  },
  {
   "cell_type": "markdown",
   "id": "01cb7db7-bdf8-4a16-8e40-a6eb1a5bd259",
   "metadata": {},
   "source": [
    "$C \\times \\frac{1}{1 + r} + ... + C \\times (\\frac{1}{1 + r})^{120} = 100000$"
   ]
  },
  {
   "cell_type": "code",
   "execution_count": 129,
   "id": "42aa892e-7ae4-439f-ab5c-6f1a801593af",
   "metadata": {},
   "outputs": [
    {
     "data": {
      "text/plain": [
       "1198.575271944253"
      ]
     },
     "execution_count": 129,
     "metadata": {},
     "output_type": "execute_result"
    }
   ],
   "source": [
    "100000 / sum([(1/(1+r))**i for i in range(1, 121)]) # 1198.58"
   ]
  },
  {
   "cell_type": "code",
   "execution_count": 134,
   "id": "2565da68-00f1-4fd3-ace7-f4878f3d3f02",
   "metadata": {},
   "outputs": [
    {
     "data": {
      "text/plain": [
       "6926.818504796823"
      ]
     },
     "execution_count": 134,
     "metadata": {},
     "output_type": "execute_result"
    }
   ],
   "source": [
    "# APR = 0.0625, fairly monthly rate\n",
    "r = (1+0.0625)**(1/12) - 1\n",
    "\n",
    "# EAR = 0.0625, fairly monthly rate\n",
    "r = 0.0625/12\n",
    "1125000 / sum([(1/(1+r))**i for i in range(1, 361)])"
   ]
  },
  {
   "cell_type": "markdown",
   "id": "7a2c960e-24e0-4a49-8eff-afd9b937b887",
   "metadata": {},
   "source": [
    "## Problem 20"
   ]
  },
  {
   "cell_type": "code",
   "execution_count": 3,
   "id": "0c522afc-4e5e-4d8a-abf2-a7c25ffdbc07",
   "metadata": {},
   "outputs": [],
   "source": [
    "# Let's plot the CFs on a line\n",
    "# and then use interest rate to calculate the present value"
   ]
  },
  {
   "cell_type": "code",
   "execution_count": 8,
   "id": "91fa9803-e904-4901-9386-47e41b5c6123",
   "metadata": {},
   "outputs": [
    {
     "data": {
      "text/plain": [
       "38478.56958796611"
      ]
     },
     "execution_count": 8,
     "metadata": {},
     "output_type": "execute_result"
    }
   ],
   "source": [
    "r = 0.05\n",
    "sum([-65000/(1+0.05)**i for i in range(1, 3)] + [10000/(1+0.05)**i for i in range(3, 5)] + \n",
    "    [40000/(1+0.05)**i for i in range(5, 10)])\n",
    "\n",
    "# pv = 38478.57, you are taking a financial gain by helping him out"
   ]
  },
  {
   "cell_type": "markdown",
   "id": "9e3b6b5d-1f8d-4161-bd8e-1091566f5f67",
   "metadata": {},
   "source": [
    "## Problem 21"
   ]
  },
  {
   "cell_type": "code",
   "execution_count": 14,
   "id": "ecc76f9c-808e-4187-ac62-5b0ae01b989d",
   "metadata": {},
   "outputs": [
    {
     "data": {
      "text/plain": [
       "376484.33350652247"
      ]
     },
     "execution_count": 14,
     "metadata": {},
     "output_type": "execute_result"
    }
   ],
   "source": [
    "# note: there seems to be a typo in the problem description\n",
    "# option 1: $500000 payable immediately\n",
    "# option 2: \n",
    "# CF 1: 50000\n",
    "# CF 2: 50000\n",
    "# CF 3: 50000\n",
    "# CF 4: 60000\n",
    "# 5, 6, 7, 8, 9, 10, 11, 12, 13: 60000\n",
    "r = 0.12\n",
    "sum([50000/(1+r)**i for i in range(1, 2)] + [60000/(1+r)**i for i in range(2, 14)])"
   ]
  },
  {
   "cell_type": "markdown",
   "id": "1604e4f5-e7c1-4755-a492-bc81c9bf4269",
   "metadata": {},
   "source": [
    "## Problem 22"
   ]
  },
  {
   "cell_type": "code",
   "execution_count": 16,
   "id": "657f40d2-c811-4c9d-81d1-a911b51c58c9",
   "metadata": {},
   "outputs": [],
   "source": [
    "# 800,000 apartment, 200,000 down payment\n",
    "# 30yr mortgage, interest 6% APR"
   ]
  },
  {
   "cell_type": "code",
   "execution_count": 40,
   "id": "e72d8c05-697f-4a95-adee-d791583d62bd",
   "metadata": {},
   "outputs": [
    {
     "data": {
      "text/plain": [
       "0.06167781186449828"
      ]
     },
     "execution_count": 40,
     "metadata": {},
     "output_type": "execute_result"
    }
   ],
   "source": [
    "# effective annual rate (under monthly compounding)\n",
    "(1 + 0.06/12)**12 - 1 # 6.17%"
   ]
  },
  {
   "cell_type": "code",
   "execution_count": 31,
   "id": "c238b39a-2d07-4be6-b458-6b147db5d1ce",
   "metadata": {},
   "outputs": [
    {
     "data": {
      "text/plain": [
       "3597.3031509164653"
      ]
     },
     "execution_count": 31,
     "metadata": {},
     "output_type": "execute_result"
    }
   ],
   "source": [
    "# what is the monthly payment\n",
    "# The PV of the mortgage annuity must equal the amount borrowed\n",
    "# use APR/12 to calculate the effective interest rate \n",
    "600000 / sum([1/(1+0.06/12)**i for i in range(1, 361)])\n",
    "# 3597.3"
   ]
  },
  {
   "cell_type": "code",
   "execution_count": 39,
   "id": "54f00287-f456-4a09-a5ba-b96e8c1cb8d4",
   "metadata": {},
   "outputs": [
    {
     "name": "stdout",
     "output_type": "stream",
     "text": [
      "558326.3607764544\n",
      "558325.6518930413\n"
     ]
    }
   ],
   "source": [
    "# sps that exactly five years have passed, interest rate are now 5% and you decided to refinance\n",
    "# your mortgage, you have to pay the remaining portition of the principal on the mortagage to\n",
    "# the bank. Exactly how much do you owe to the bank at that point?\n",
    "\n",
    "# complex way\n",
    "# present value\n",
    "(600000 - 3597.3 * sum([1/(1+0.06/12)**i for i in range(1, 61)]))\n",
    "# convert present value to future value at the end of fifth year\n",
    "print((600000 - 3597.3 * sum([1/(1+0.06/12)**i for i in range(1, 61)])) * (1+0.06/12)**60)\n",
    "\n",
    "# simpler way\n",
    "# consider an annuity with 25 years remaining\n",
    "print(3597.3 / 0.005 * (1- (1/(1+0.005)**300)))"
   ]
  },
  {
   "cell_type": "markdown",
   "id": "a891c84c-4ddf-42ca-ae78-8be84c95c8b7",
   "metadata": {},
   "source": [
    "## Problem 23"
   ]
  },
  {
   "cell_type": "code",
   "execution_count": 41,
   "id": "681da608-44a2-415e-bdb9-0d1d238684a2",
   "metadata": {},
   "outputs": [],
   "source": [
    "# True, false or \"it depends\": US Treasury securities have no risk b/c they give sure payoffs\n",
    "# at fixed future dates\n",
    "\n",
    "# False:\n",
    "# 1, US government can default\n",
    "# 2, inflation risk"
   ]
  },
  {
   "cell_type": "markdown",
   "id": "6e7baaf0-91e9-48c1-9bd9-293f1e31cca1",
   "metadata": {},
   "source": [
    "## Problem 24"
   ]
  },
  {
   "cell_type": "code",
   "execution_count": 42,
   "id": "19c0cbaf-61ea-4030-b1fd-9b53af0787ca",
   "metadata": {},
   "outputs": [],
   "source": [
    "# 10yr German goverment bond has face value of 10000 and an annual coupon rate of 5%\n",
    "# Assume that interest rate (in euros) is equal to 6% per year. \n",
    "\n",
    "# A coupon rate is the interest rate paid to a bondholder by a bond issuer. \n",
    "# It's a fixed percentage of the bond's face value that's paid out periodically, usually semi-annually or annually. "
   ]
  },
  {
   "cell_type": "code",
   "execution_count": 46,
   "id": "5c91f467-033d-4d0a-b589-aa593c07525e",
   "metadata": {},
   "outputs": [
    {
     "data": {
      "text/plain": [
       "9263.991294858526"
      ]
     },
     "execution_count": 46,
     "metadata": {},
     "output_type": "execute_result"
    }
   ],
   "source": [
    "# what's the bond's PV?\n",
    "# CF 1, CF 2, ..., CF 10\n",
    "# 10000 * 0.05, 10000*0.05, ..., 10000 * 0.05 + 10000\n",
    "sum([10000*0.05/(1+0.06)**i for i in range(1, 11)] + [10000/(1+0.06)**10])\n",
    "# last term corresponds to the payout of principal"
   ]
  },
  {
   "cell_type": "code",
   "execution_count": 55,
   "id": "6e9f1aaa-ad3d-49c8-8c90-12a28d0d2584",
   "metadata": {},
   "outputs": [
    {
     "data": {
      "text/plain": [
       "9318.387884175687"
      ]
     },
     "execution_count": 55,
     "metadata": {},
     "output_type": "execute_result"
    }
   ],
   "source": [
    "# Sps instead the the bound paid interest semiannually like a US bond \n",
    "# the bond would pay 0.025 * 10000 every 6 months, what's the PV?\n",
    "\n",
    "# first derive the effective interest rate per 6 months based on the annual interest rate\n",
    "ear = 1.06**(0.5) - 1 \n",
    "sum([10000*0.025/(1+ear)**i for i in range(1, 21)] + [10000/(1+0.06)**10]) # 9318.39"
   ]
  },
  {
   "cell_type": "markdown",
   "id": "4d01ccd7-a686-4bb5-a907-856c3249c99b",
   "metadata": {},
   "source": [
    "## Problem 25"
   ]
  },
  {
   "cell_type": "code",
   "execution_count": 56,
   "id": "ef006e2a-92ec-41c8-aa73-502af18a6b71",
   "metadata": {},
   "outputs": [],
   "source": [
    "# 500000 30yr mortgage\n",
    "# interest rate is 8.5% monthly APR"
   ]
  },
  {
   "cell_type": "code",
   "execution_count": 57,
   "id": "989e1da9-4d7a-4dff-88a8-3d867b8dedc3",
   "metadata": {},
   "outputs": [
    {
     "name": "stdout",
     "output_type": "stream",
     "text": [
      "1.088390905892635\n"
     ]
    }
   ],
   "source": [
    "# ear\n",
    "ear = (1 + 0.085/12)**12\n",
    "print(ear)"
   ]
  },
  {
   "cell_type": "code",
   "execution_count": 60,
   "id": "1c4f3028-3160-4d51-aaae-0f0422f1d60e",
   "metadata": {},
   "outputs": [
    {
     "name": "stdout",
     "output_type": "stream",
     "text": [
      "3844.5674179216667\n"
     ]
    }
   ],
   "source": [
    "# monthly payment\n",
    "# the effective interest rate per month is 0.085/12\n",
    "# Let C be monthly payment \n",
    "C = 500000 / sum([1.0/(1.0+0.085/12)**i for i in range(1, 361)])\n",
    "print(C)"
   ]
  },
  {
   "cell_type": "code",
   "execution_count": 64,
   "id": "58224021-ea9f-493c-8ea2-44e5f23bb038",
   "metadata": {},
   "outputs": [
    {
     "data": {
      "text/plain": [
       "477451.3298027278"
      ]
     },
     "execution_count": 64,
     "metadata": {},
     "output_type": "execute_result"
    }
   ],
   "source": [
    "# How much do you owe the bank immediately after the 60th monthly payment?\n",
    "C/(0.085/12) * (1 - 1/(1 + 0.085/12)**300) # 477451.33\n",
    "# idea: treat it as an annuity with 300 pay periods remaining, and calculate\n",
    "# its present value"
   ]
  },
  {
   "cell_type": "markdown",
   "id": "0c5064ab-3249-49ab-a873-df8ca8f2622f",
   "metadata": {},
   "source": [
    "## Problem 26"
   ]
  },
  {
   "cell_type": "code",
   "execution_count": 65,
   "id": "2f258178-ddba-46bc-a52d-c85d4e2d690f",
   "metadata": {},
   "outputs": [],
   "source": [
    "# Assuming the starting salary after graduation is X"
   ]
  },
  {
   "cell_type": "code",
   "execution_count": 79,
   "id": "78e3ad0e-2733-4fab-9428-3a007305f5aa",
   "metadata": {},
   "outputs": [
    {
     "name": "stdout",
     "output_type": "stream",
     "text": [
      "468687.7117132264\n"
     ]
    }
   ],
   "source": [
    "# non-MBA option\n",
    "pv1 = sum([40000/(1+0.08)**i for i in range(1, 37)])\n",
    "print(pv1)"
   ]
  },
  {
   "cell_type": "code",
   "execution_count": 91,
   "id": "e78b74f5-8de8-4108-8aeb-669aa4e94b2b",
   "metadata": {},
   "outputs": [],
   "source": [
    "# do MBA option\n",
    "# cashflow, it is a function of starting salary\n",
    "# note we also need to consider the lost in salary (but why?)\n",
    "def pv2(x):\n",
    "    return sum([-60000/(1+0.08)**i for i in range(1, 3)] + [ (x/(1+0.08)**3) * (1.05/1.08)**(i-3) for i in range(3, 37)])"
   ]
  },
  {
   "cell_type": "code",
   "execution_count": 89,
   "id": "f6be68bd-6162-446f-8748-5dc4bdec53bf",
   "metadata": {},
   "outputs": [
    {
     "name": "stdout",
     "output_type": "stream",
     "text": [
      "32687.685424804688\n"
     ]
    },
    {
     "data": {
      "text/plain": [
       "468688.8746541348"
      ]
     },
     "execution_count": 89,
     "metadata": {},
     "output_type": "execute_result"
    }
   ],
   "source": [
    "# binary search: minimum x s.t. pv2(x) >= pv1 + eps\n",
    "left = 0\n",
    "right = 50000\n",
    "\n",
    "while left <= right:\n",
    "    mid = (left + right)/2.0\n",
    "    pv2_mid = pv2(mid)\n",
    "    if pv2_mid < pv1:\n",
    "        # need to go higher\n",
    "        left = mid + 1\n",
    "    else:\n",
    "        result = mid\n",
    "        right = mid - 1\n",
    "\n",
    "print(result)\n",
    "pv2(result)"
   ]
  },
  {
   "cell_type": "markdown",
   "id": "02f923c8-942e-408e-b48c-6a723c7e8f99",
   "metadata": {},
   "source": [
    "## Problem 29"
   ]
  },
  {
   "cell_type": "code",
   "execution_count": 93,
   "id": "0e601529-c236-4f48-a846-2747c0b3db34",
   "metadata": {},
   "outputs": [],
   "source": [
    "# Sps you invest $50000 for 10 years at a nominal rate of 7.5% per year.\n",
    "# If the annual inflation rate is 3% for the next 10 years, what is the\n",
    "# real value of your investment at the end of 10 years."
   ]
  },
  {
   "cell_type": "code",
   "execution_count": 97,
   "id": "2cee9515-6c44-408f-84ca-cbb85942429e",
   "metadata": {},
   "outputs": [
    {
     "data": {
      "text/plain": [
       "76680.05219084263"
      ]
     },
     "execution_count": 97,
     "metadata": {},
     "output_type": "execute_result"
    }
   ],
   "source": [
    "# nominal value in 10 years\n",
    "50000 * (1.075)**10 / (1.03**10) # use inflation factor to adjust it to today's dollar"
   ]
  },
  {
   "cell_type": "markdown",
   "id": "98142e43-c77f-4028-b3cf-2c894041a960",
   "metadata": {},
   "source": [
    "## Problem 31"
   ]
  },
  {
   "cell_type": "code",
   "execution_count": 14,
   "id": "6fbfd8cc-f8de-425b-945c-a32193bc2b17",
   "metadata": {},
   "outputs": [],
   "source": [
    "# A 10yr US treasury bond with a face value of $10000 pays a coupon rate of 5.5%\n",
    "# 2.75% of face value every 6 months. The semi-annually compounded interest rate is 5.2% (6-month \n",
    "# discount rate is 5.2% / 2 = 2.6%)"
   ]
  },
  {
   "cell_type": "code",
   "execution_count": 1,
   "id": "6b41204b-d982-4fa2-ae99-239b8556d5a1",
   "metadata": {},
   "outputs": [],
   "source": [
    "# CF\n",
    "# CF 1: 10000 * 0.0275\n",
    "# CF 2: 10000 * 0.0275\n",
    "# ...\n",
    "# CF 20: 10000 * 0.0275 + 10000"
   ]
  },
  {
   "cell_type": "code",
   "execution_count": 3,
   "id": "ef5c20ad-8549-4668-8b73-da224e9bc543",
   "metadata": {},
   "outputs": [
    {
     "data": {
      "text/plain": [
       "10231.643655259151"
      ]
     },
     "execution_count": 3,
     "metadata": {},
     "output_type": "execute_result"
    }
   ],
   "source": [
    "# what's the present value\n",
    "sum([ 10000*0.0275/(1+0.026)**i for i in range(1, 21) ]) + (10000/(1+0.026)**20)\n",
    "# 10231.64"
   ]
  },
  {
   "cell_type": "code",
   "execution_count": 4,
   "id": "af724a55-c325-48b6-ad5c-5081079a97f9",
   "metadata": {},
   "outputs": [],
   "source": [
    "# Generate a graph or table showing the bond's present value changes for semi-annually compounded\n",
    "# interest rate between 1% and 15%\n",
    "def pv_bond(face_value, pay_periods, coupon_rate, discount_rate):\n",
    "    # discount_rate: discount_rate per pay period\n",
    "    # coupon_rate: (payment/face_value) per pay period\n",
    "    return sum([ 10000*coupon_rate/(1+discount_rate)**i for i in range(1, pay_periods+1) ]) + (10000/(1+discount_rate)**pay_periods)"
   ]
  },
  {
   "cell_type": "code",
   "execution_count": 11,
   "id": "4af2dac1-c8b6-4883-a5ea-144bcebb7f91",
   "metadata": {},
   "outputs": [
    {
     "data": {
      "image/png": "[encoded data removed]",
      "text/plain": [
       "<Figure size 640x480 with 1 Axes>"
      ]
     },
     "metadata": {},
     "output_type": "display_data"
    }
   ],
   "source": [
    "# pv_bond(10000, 20, 0.0275, 0.026)\n",
    "interest_rate_list = np.linspace(0.01, 0.15, 1000)\n",
    "pv_list = [pv_bond(10000, 20, 0.0275, x) for x in interest_rate_list]\n",
    "plt.plot(interest_rate_list, pv_list)\n",
    "plt.title(\"PV as function of semi-annualy compounded interest rate between 1% and 15%\")\n",
    "plt.show()"
   ]
  },
  {
   "cell_type": "markdown",
   "id": "fe3c481b-db80-4d42-97a9-1307fb58e59c",
   "metadata": {},
   "source": [
    "## Problem 34"
   ]
  },
  {
   "cell_type": "code",
   "execution_count": 12,
   "id": "06e1fc64-b7d3-49d4-b6ea-1a25805c54f6",
   "metadata": {},
   "outputs": [],
   "source": [
    "# The annually compounded discount rate is 5.5%. You are asked to\n",
    "# calculate the present value of a 12-year annuity with payments of $50000 per year\n",
    "# Calculate PV for each of the following cases."
   ]
  },
  {
   "cell_type": "code",
   "execution_count": 16,
   "id": "6c02fa4f-b7b3-4ceb-9c24-683890cb962a",
   "metadata": {},
   "outputs": [
    {
     "name": "stdout",
     "output_type": "stream",
     "text": [
      "430925.89243678126\n"
     ]
    }
   ],
   "source": [
    "# The annuity payments arrive at one-year intervals. The first payment arrives one year from now\n",
    "# CF 1: 50000\n",
    "# ...\n",
    "# CF 12: 50000\n",
    "\n",
    "r = 0.055\n",
    "pv = sum([50000/(1+r)**i for i in range(1, 13)])\n",
    "print(pv)"
   ]
  },
  {
   "cell_type": "code",
   "execution_count": 21,
   "id": "1686eba0-33e8-4bbe-ab82-192c584a973b",
   "metadata": {},
   "outputs": [
    {
     "data": {
      "text/plain": [
       "442617.7432445746"
      ]
     },
     "execution_count": 21,
     "metadata": {},
     "output_type": "execute_result"
    }
   ],
   "source": [
    "# The first payment arrives in 6 months. Following payments arrive at one-year intervals, at 18 months\n",
    "# 30 months, etc.\n",
    "# let's first figure out the semi-annual interest rate\n",
    "r_half = (1+0.055)**(0.5) - 1\n",
    "\n",
    "# cashflows by half year\n",
    "# CF 1: 50000\n",
    "# CF 2: 0\n",
    "# CF 3: 50000\n",
    "# CF 4: 0\n",
    "# CF 5: 50000\n",
    "# ...\n",
    "# CF 23: 50000\n",
    "# CF 24: 0\n",
    "sum([50000/(1+r_half)**1] + [50000/(1+r_half)**i if i % 2 == 1 else 0 for i in range(2, 25)])"
   ]
  }
 ],
 "metadata": {
  "kernelspec": {
   "display_name": "Python 3 (ipykernel)",
   "language": "python",
   "name": "python3"
  },
  "language_info": {
   "codemirror_mode": {
    "name": "ipython",
    "version": 3
   },
   "file_extension": ".py",
   "mimetype": "text/x-python",
   "name": "python",
   "nbconvert_exporter": "python",
   "pygments_lexer": "ipython3",
   "version": "3.12.3"
  }
 },
 "nbformat": 4,
 "nbformat_minor": 5
}
