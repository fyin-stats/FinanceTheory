{
 "cells": [
  {
   "cell_type": "code",
   "execution_count": 2,
   "id": "eb5d6abd-07b3-4a83-a5a4-02d141801b97",
   "metadata": {},
   "outputs": [],
   "source": [
    "# This notebook is dedicated to solving the problems in Part 2 of Problem Set (Fixed Income Securities)"
   ]
  },
  {
   "cell_type": "code",
   "execution_count": 1,
   "id": "50361553-9465-4b35-b671-17d2467a2354",
   "metadata": {},
   "outputs": [],
   "source": [
    "import pandas as pd\n",
    "import numpy as np"
   ]
  },
  {
   "cell_type": "markdown",
   "id": "d2c15ec4-1ebe-49b4-aacc-044f05852a31",
   "metadata": {},
   "source": [
    "## Problem 1"
   ]
  },
  {
   "cell_type": "code",
   "execution_count": null,
   "id": "14d3ae66-444e-4fb7-92b5-aedca6b2842b",
   "metadata": {},
   "outputs": [],
   "source": [
    "# The duration of a coupon bond maturing at date T is always less than the duration of a zero-coupon bond maturing on the same date\n"
   ]
  },
  {
   "cell_type": "code",
   "execution_count": null,
   "id": "feec4dbd-fa38-41af-8df5-3fc23dfb999a",
   "metadata": {},
   "outputs": [],
   "source": []
  },
  {
   "cell_type": "code",
   "execution_count": null,
   "id": "1a79bb66-69c4-4b9f-8a8b-d76c4f2ed161",
   "metadata": {},
   "outputs": [],
   "source": []
  },
  {
   "cell_type": "code",
   "execution_count": null,
   "id": "44f74aa1-baf1-48a8-9290-b929391e1ec1",
   "metadata": {},
   "outputs": [],
   "source": []
  },
  {
   "cell_type": "markdown",
   "id": "6cde7a5c-75bb-471f-97f1-e53531013aa0",
   "metadata": {},
   "source": [
    "## Problem 7"
   ]
  },
  {
   "cell_type": "code",
   "execution_count": 5,
   "id": "46713ed7-ab0f-4779-9b4e-c630242fb81a",
   "metadata": {},
   "outputs": [],
   "source": [
    "# Which security has a higher effective annual interest rate?\n",
    "# a, a three-month T-bill selling at $97,645 with face value of $100,000\n",
    "# b, a coupon bond selling at par and paying a 10% coupon semi-annually"
   ]
  },
  {
   "cell_type": "code",
   "execution_count": 8,
   "id": "0d2f33b7-430b-4e23-bdfe-bb29d8064059",
   "metadata": {},
   "outputs": [
    {
     "data": {
      "text/plain": [
       "1.1000184286843335"
      ]
     },
     "execution_count": 8,
     "metadata": {},
     "output_type": "execute_result"
    }
   ],
   "source": [
    "# a\n",
    "# PV = F/(1 + r) -> (1+r) = F/PV -> r = F/PV - 1\n",
    "r = 100000/97645 - 1 # three month discount rate\n",
    "# effective annual rate \n",
    "(1+r)**4"
   ]
  },
  {
   "cell_type": "code",
   "execution_count": 11,
   "id": "1ede0a05-5d89-4f48-9dbd-3d59867590db",
   "metadata": {},
   "outputs": [
    {
     "data": {
      "text/plain": [
       "1.1025"
      ]
     },
     "execution_count": 11,
     "metadata": {},
     "output_type": "execute_result"
    }
   ],
   "source": [
    "# b\n",
    "# 10% coupon semi-annually --> 5% per half year\n",
    "(1+0.05)**2\n",
    "\n",
    "# Therefore the coupon has higher effective annual interest rate"
   ]
  },
  {
   "cell_type": "markdown",
   "id": "030679e3-7e78-4ef3-a710-3d44c024b522",
   "metadata": {},
   "source": [
    "## Problem 8"
   ]
  },
  {
   "cell_type": "code",
   "execution_count": 12,
   "id": "6d02bcdc-07ee-4d5f-9b89-96675085624f",
   "metadata": {},
   "outputs": [],
   "source": [
    "# The Wall Street Journal quotes 6% for the Treasury Bill with a par value of $100,000 due two months from now\n",
    "# What's the effective annual yield on the bill?"
   ]
  },
  {
   "cell_type": "markdown",
   "id": "bdf32324-8ea6-4e7e-8c09-9fab65f5ab27",
   "metadata": {},
   "source": [
    "## Problem 9"
   ]
  },
  {
   "cell_type": "code",
   "execution_count": 17,
   "id": "4aeb3d18-c9b2-4da1-857e-19072fe99d97",
   "metadata": {},
   "outputs": [],
   "source": [
    "# Which security has a higher effective annual interest rate?\n",
    "# a, A six-month T-bill selling at $98,058 with face value of $100,000\n",
    "# b, A coupon bond selling at par and paying a 4.2% coupon (2.1% every six months)"
   ]
  },
  {
   "cell_type": "code",
   "execution_count": 18,
   "id": "80e49399-dfe1-4fc1-bba9-e4f1df85eea9",
   "metadata": {},
   "outputs": [
    {
     "data": {
      "text/plain": [
       "1.0400014332717353"
      ]
     },
     "execution_count": 18,
     "metadata": {},
     "output_type": "execute_result"
    }
   ],
   "source": [
    "# a, six month interest rate\n",
    "r = 100000/98058 - 1\n",
    "(1+r)**2"
   ]
  },
  {
   "cell_type": "code",
   "execution_count": 19,
   "id": "7c9f0fd1-1b46-4f01-aa90-82594a8a2637",
   "metadata": {},
   "outputs": [
    {
     "data": {
      "text/plain": [
       "1.0424409999999997"
      ]
     },
     "execution_count": 19,
     "metadata": {},
     "output_type": "execute_result"
    }
   ],
   "source": [
    "(1+0.021)**2\n",
    "# coupon bond with 4.2% coupon (2.1% every six months) gives higher effective annual interest rate"
   ]
  },
  {
   "cell_type": "markdown",
   "id": "18b96b9a-643c-4cf0-8f79-9aec8d64c872",
   "metadata": {},
   "source": [
    "## Problem 10"
   ]
  },
  {
   "cell_type": "code",
   "execution_count": 23,
   "id": "3984465e-cd2f-45bf-acd1-fb60f4e29935",
   "metadata": {},
   "outputs": [],
   "source": [
    "# Spot rates\n",
    "# you are given the following prices of US Treasury Strips (discount or zero coupon bonds)\n",
    "# maturity 1: 96.2\n",
    "# maturity 2: 91.6\n",
    "# maturity 3: 86.1\n",
    "# per 100FV"
   ]
  },
  {
   "cell_type": "code",
   "execution_count": 28,
   "id": "2395e875-8533-443a-adc5-6a265130f062",
   "metadata": {},
   "outputs": [
    {
     "name": "stdout",
     "output_type": "stream",
     "text": [
      "0.03950103950103956\n",
      "0.044845948821432335\n",
      "0.05115223046117179\n"
     ]
    }
   ],
   "source": [
    "# compute the spot rates for years 1, 2, and 3\n",
    "FV = 100\n",
    "P_01 = 96.2\n",
    "P_02 = 91.6\n",
    "P_03 = 86.1\n",
    "\n",
    "# P_01 = FV / (1+r01) ->\n",
    "r_01 = FV/P_01 - 1\n",
    "print(r_01)\n",
    "\n",
    "# P_02 = FV / (1+r02)**2\n",
    "r_02 = (FV/P_02) ** 0.5 - 1\n",
    "print(r_02)\n",
    "\n",
    "# \n",
    "r_03 = (FV/P_03) ** (1/3.0) - 1\n",
    "print(r_03)"
   ]
  },
  {
   "cell_type": "code",
   "execution_count": 30,
   "id": "5324cd21-1c22-489f-b394-d5db7a04cf29",
   "metadata": {},
   "outputs": [
    {
     "name": "stdout",
     "output_type": "stream",
     "text": [
      "225.36\n"
     ]
    }
   ],
   "source": [
    "# now, sps you are offered a project which returns the following cashflows\n",
    "# 300M at year 1\n",
    "# 210M at year 2\n",
    "# 400M at year 3\n",
    "# the project costs $600M today -> -600 at year 0\n",
    "\n",
    "# calculate the NPV of the project using the spot rates computed above\n",
    "PV = -600 + 300/(1+r_01) + 210/(1+r_02)**2 + 400/(1+r_03)**3\n",
    "print(PV)"
   ]
  },
  {
   "cell_type": "markdown",
   "id": "ea8a5a9e-2087-4462-a77c-32b2f31bf66c",
   "metadata": {},
   "source": [
    "## Problem 11"
   ]
  },
  {
   "cell_type": "code",
   "execution_count": 35,
   "id": "65733487-b8c0-46e2-9e46-c4333a192e73",
   "metadata": {},
   "outputs": [],
   "source": [
    "# Assume that spot interest rates are as follows\n",
    "# 1yr: 3.0%\n",
    "# 2yr: 3.5%\n",
    "# 3yr: 4.0%\n",
    "# 4yr: 4.5%\n",
    "# Compute the prices and YTMs of the following bonds\n",
    "# Assume that spot rates and YTMs are with annual compounding, coupon payments are annual, and par values are 100"
   ]
  },
  {
   "cell_type": "code",
   "execution_count": 39,
   "id": "470e198b-d8de-4222-a6cd-59c80c38dcb1",
   "metadata": {},
   "outputs": [
    {
     "name": "stdout",
     "output_type": "stream",
     "text": [
      "88.89963586709148\n"
     ]
    }
   ],
   "source": [
    "# (a), a zero-coupon bond with 3 years to maturity\n",
    "PV = 100/(1.04)**3\n",
    "print(PV)\n",
    "# YTM = 0.04 b/c there is no coupon, PV = F/(1+r)**3"
   ]
  },
  {
   "cell_type": "code",
   "execution_count": 41,
   "id": "0806f4d2-9083-4ba7-82ca-cc0cf114988b",
   "metadata": {},
   "outputs": [
    {
     "name": "stdout",
     "output_type": "stream",
     "text": [
      "102.87299247051116\n",
      "[0.03487919]\n"
     ]
    }
   ],
   "source": [
    "# (b), A bond with coupon rate 5% and 2 years to maturity\n",
    "# Coupon payments = FV * 5% = 100 * 0.05\n",
    "\n",
    "# Cashflow\n",
    "# 1 yr: 5\n",
    "# 2 yr: 5 + 100\n",
    "PV = 5/(1+0.03) + (5+100)/(1+0.035)**2\n",
    "print(PV)\n",
    "\n",
    "# YTM y is the number s.t.\n",
    "# PV = 5/(1+y) + (5+100)/(1+y)**2\n",
    "from scipy.optimize import fsolve\n",
    "\n",
    "def func(x):\n",
    "    return 5.0/(1+x) + (5.0+100.0)/(1+x)**2 - PV\n",
    "\n",
    "root = fsolve(func, 0.032)\n",
    "print(root)"
   ]
  },
  {
   "cell_type": "code",
   "execution_count": 43,
   "id": "64a5f789-24ed-45e6-9bfe-815de105209e",
   "metadata": {},
   "outputs": [
    {
     "name": "stdout",
     "output_type": "stream",
     "text": [
      "105.64778749355128\n",
      "[0.04428353]\n"
     ]
    }
   ],
   "source": [
    "# (c), A bond with coupon rate 6% and 4 years to maturity\n",
    "# Cashflow:\n",
    "# 1 yr: 6\n",
    "# 2 yr: 6\n",
    "# 3 yr: 6\n",
    "# 4 yr: 6 + 100\n",
    "PV = 6/(1+0.03) + 6/(1+0.035)**2 + 6/(1+0.04)**3 + (6+100)/(1.045)**4\n",
    "print(PV)\n",
    "\n",
    "def func(x):\n",
    "    return 6.0/(1+x) + (6.0)/(1+x)**2 + (6.0)/(1+x)**3 + (6.0+100.0)/(1+x)**4 - PV\n",
    "\n",
    "root = fsolve(func, 0.04)\n",
    "print(root)"
   ]
  },
  {
   "cell_type": "markdown",
   "id": "015898d4-44d4-4a62-ac2c-d160b818ffac",
   "metadata": {},
   "source": [
    "## Problem 12"
   ]
  },
  {
   "cell_type": "code",
   "execution_count": 2,
   "id": "1a341a8a-c26c-49ad-aa82-fac3f7cb1ddd",
   "metadata": {},
   "outputs": [],
   "source": [
    "# Treasurey bonds paying an 8% coupon with semi-annual payments currently sell at par value\n",
    "# What coupon rate would they have to pay in order to sell at par if they paid their coupons annually?"
   ]
  },
  {
   "cell_type": "code",
   "execution_count": 3,
   "id": "564148d4-4a5b-4b09-bf79-d98b1f5bb1a9",
   "metadata": {},
   "outputs": [
    {
     "data": {
      "text/plain": [
       "1.0816000000000001"
      ]
     },
     "execution_count": 3,
     "metadata": {},
     "output_type": "execute_result"
    }
   ],
   "source": [
    "# they must offer same yield\n",
    "(1+0.04)**2"
   ]
  },
  {
   "cell_type": "markdown",
   "id": "80fa47d7-e42c-48af-b1ea-8936b617c68e",
   "metadata": {},
   "source": [
    "## Problem 15"
   ]
  },
  {
   "cell_type": "code",
   "execution_count": 5,
   "id": "2edb63fd-f08e-4098-ac6f-12eba20d1266",
   "metadata": {},
   "outputs": [],
   "source": [
    "# Forward Rates\n",
    "# You are given the following spot rates\n",
    "# Maturity 1: 2.9%\n",
    "# Maturity 2: 3.2%\n",
    "# Maturity 3: 3.6%\n",
    "# Maturity 4: 4.2%"
   ]
  },
  {
   "cell_type": "code",
   "execution_count": 12,
   "id": "d61cf116-221d-4eef-9e44-ab721951e2e7",
   "metadata": {},
   "outputs": [
    {
     "name": "stdout",
     "output_type": "stream",
     "text": [
      "0.03500874635568518\n"
     ]
    }
   ],
   "source": [
    "# (a), compute the forward rates between years 1 and years 2\n",
    "f12 = ((1+0.032)**2)/(1+0.029) - 1\n",
    "print(f12) # 3.5%"
   ]
  },
  {
   "cell_type": "code",
   "execution_count": 14,
   "id": "07ca73ca-6214-4927-accc-83797f86b8f6",
   "metadata": {},
   "outputs": [
    {
     "name": "stdout",
     "output_type": "stream",
     "text": [
      "0.03951783694813704\n"
     ]
    }
   ],
   "source": [
    "# (b), compute the forward rate between years 1 and years 3\n",
    "f13 = (((1+0.036)**3)/(1+0.029))**0.5 - 1\n",
    "print(f13)\n",
    "\n",
    "# (1+r3)^3 = (1+r1)^1 * (1+f13)^2"
   ]
  },
  {
   "cell_type": "code",
   "execution_count": 19,
   "id": "ebb31cbe-e774-4fc2-a38f-bbedc56967c2",
   "metadata": {},
   "outputs": [
    {
     "name": "stdout",
     "output_type": "stream",
     "text": [
      "0.060209300370974494\n"
     ]
    }
   ],
   "source": [
    "# (c), sps one of your 401 TAs, offers to commits to borrowing money from you between years 3 and years 4 at a rate of 6.3%\n",
    "# is there any way you can profit from this? What sort of riks are you exposed to? Is this strategy an arbitrage?\n",
    "f34 = ((1+0.042)**4)/(1+0.036)**3 - 1\n",
    "print(f34) # forward rate is 6.02%\n",
    "\n",
    "# 1: enter into a contract to lend him money at 6.3% between years 3 and years 4\n",
    "# 2: short a 4 year strip\n",
    "# 3: use the proceeds from the shorting to buy 3 year strip. \n",
    "#    The amount should be based on how much you enter into a contract with the TA for\n",
    "\n",
    "# If you allow these steps you will have more than enough to cover the short position in year 4 (since the rate you lend at\n",
    "# is higher than the fair forward rate). Hence, this is an arbitrage. The risks you are exposed are contract and counter-party\n",
    "# risk, for example the TA may go bankrupt before year 3 if he continues to enter into contracts of this form\n",
    "# and may not be able to honor. In that case, you will end up hanging position and expose to various interest rate risks"
   ]
  },
  {
   "cell_type": "markdown",
   "id": "d6068898-146c-4594-a9ae-0b6b17014d91",
   "metadata": {},
   "source": [
    "## Problem 16"
   ]
  },
  {
   "cell_type": "code",
   "execution_count": 21,
   "id": "f1bd832c-085e-47f3-be2b-8b01e8175cf1",
   "metadata": {},
   "outputs": [],
   "source": [
    "# You are a bond trader and see on your screen the following information on three bonds with annual coupon payments\n",
    "# and par value of $100\n",
    "\n",
    "# A: coupon rate = 0, maturity 1 yr, YTM = 5%\n",
    "# B: coupon rate = 5%, maturity 2 yr, YTM = 5.50%\n",
    "# C: coupon rate = 6%, maturity 3 yr, YTM = 6.00%"
   ]
  },
  {
   "cell_type": "code",
   "execution_count": 26,
   "id": "6e5889ae-2920-49f3-ab40-8023b3e4f97e",
   "metadata": {},
   "outputs": [
    {
     "name": "stdout",
     "output_type": "stream",
     "text": [
      "95.23809523809524\n",
      "99.07684014285394\n",
      "100.0\n"
     ]
    }
   ],
   "source": [
    "# (a), what are the prices of the above bonds?\n",
    "# A: cashflow\n",
    "# yr 1: 100\n",
    "PV_A = 100/(1+0.05)\n",
    "print(PV_A)\n",
    "\n",
    "# B: cashflow\n",
    "# yr 1: 100*0.05\n",
    "# yr 2: 100*0.05 + 100\n",
    "PV_B = (100*0.05)/(1+0.055) + (100*0.05 + 100)/(1+0.055)**2\n",
    "print(PV_B)\n",
    "\n",
    "# C: cashflow\n",
    "# yr 1: 100*0.06\n",
    "# yr 2: 100*0.06\n",
    "# yr 3: 100*0.06 + 100\n",
    "PV_C = (100*0.06)/(1+0.06) + (100*0.06)/(1+0.06)**2 + (100*0.06 + 100) / (1+0.06)**3\n",
    "print(PV_C) # coupon rate = YTM"
   ]
  },
  {
   "cell_type": "code",
   "execution_count": 35,
   "id": "cb5a8abd-a699-4801-9b86-5fc696bbba7b",
   "metadata": {},
   "outputs": [
    {
     "name": "stdout",
     "output_type": "stream",
     "text": [
      "0.0551262159569994\n",
      "0.06041064121023276\n"
     ]
    }
   ],
   "source": [
    "# (b), construct the current term-structure of spot interest rates\n",
    "# definition of term structure: the set of spot interest rates for different maturities gives the term structure of spot interest rates\n",
    "# which refers to the relation between spot rates and their maturities\n",
    "r_01 = 0.05\n",
    "r_02 = (105/(PV_B - 5/1.05))**0.5 - 1\n",
    "print(r_02)\n",
    "\n",
    "# (1+r_02)**2 = 105/(PV_B - 5/1.05)\n",
    "# 105 = (PV_B - 5/1.05) * (1+r_02)**2 # convert coupon bonds to pure discount bonds, the idea is to discount the future coupon payment\n",
    "# to present day and add them to present value, and also discount the final coupon payment + principal to present day using spot rates\n",
    "\n",
    "# 105 = (PV_C - 5/(1+r_01) - 5/(1+r_02)**2) * (1+r_03)**3\n",
    "r_03 = (106/(PV_C - 6/(1+r_01) - 6/(1+r_02)**2))**(1/3) - 1\n",
    "print(r_03)"
   ]
  },
  {
   "cell_type": "code",
   "execution_count": 1,
   "id": "50ae4e15-ef73-4637-9fca-e7030c3ac2c5",
   "metadata": {},
   "outputs": [],
   "source": [
    "# (c), Explain how you would synthetically replicate a zero-coupon bond with a maturity of 3 years and a par value of $100"
   ]
  },
  {
   "cell_type": "code",
   "execution_count": null,
   "id": "ed1b2cfc-7187-4c98-81f8-2bc151ac8f7c",
   "metadata": {},
   "outputs": [],
   "source": []
  },
  {
   "cell_type": "markdown",
   "id": "25ef0938-f399-42d4-8e84-7c73dfad0c13",
   "metadata": {},
   "source": [
    "## Problem 17"
   ]
  },
  {
   "cell_type": "code",
   "execution_count": 4,
   "id": "c3a44aa3-44ce-4b28-99a5-916721566255",
   "metadata": {},
   "outputs": [],
   "source": [
    "# You are given the following information\n",
    "# Bond A: coupon rate 10%, maturity 1, price = 106.80\n",
    "# Bond B: coupon rate 5%, maturity 2, price = 101.93\n",
    "# Bond C: coupon rate 10%, maturity 3, price = 111.31\n",
    "\n",
    "# All coupon payments are annual and par values are 100."
   ]
  },
  {
   "cell_type": "code",
   "execution_count": 9,
   "id": "486fc9ff-8dca-4e59-9340-f2d6ee48923a",
   "metadata": {},
   "outputs": [
    {
     "name": "stdout",
     "output_type": "stream",
     "text": [
      "0.029962546816479474\n",
      "0.04001579035095282\n",
      "0.06000953924837926\n"
     ]
    }
   ],
   "source": [
    "# (a), determine the 1-, 2-, and 3-yr spot interest rates from the given prices\n",
    "# Bond A, cashflows\n",
    "# 1 yr: 10 + 100\n",
    "PV_A = 106.80\n",
    "r01 = (10+100)/PV_A - 1\n",
    "print(r01)\n",
    "\n",
    "# Bond B, cashflows\n",
    "# 1 yr: 5 \n",
    "# 2 yr: 5 + 100\n",
    "PV_B = 101.93\n",
    "# PV = 5/(1+r01) + (5+100)/(1+r02)**2\n",
    "# (1+r02)**2 = (5+100)/(PV - 5/(1+r01))\n",
    "r02 = ((5+100)/(PV_B - 5/(1+r01)))**0.5 - 1\n",
    "print(r02)\n",
    "\n",
    "# Bond C, cashflows\n",
    "# 1 yr: 10\n",
    "# 2 yr: 10\n",
    "# 3 yr: 10 + 100\n",
    "PV_C = 111.31\n",
    "# PV = 10/(1+r01) + 10/(1+r02)**2 + (10+100)/(1+r03)**3\n",
    "# (1+r03)**3 = (10+100)/(PV - 10/(1+r01) - 10/(1+r02)**2)\n",
    "r03 = ((10+100)/(PV_C - 10/(1+r01) - 10/(1+r02)**2))**(1/3) - 1\n",
    "print(r03)"
   ]
  },
  {
   "cell_type": "code",
   "execution_count": 11,
   "id": "c0c98b78-7ebf-43f0-af39-3bed5ea60f65",
   "metadata": {},
   "outputs": [
    {
     "name": "stdout",
     "output_type": "stream",
     "text": [
      "0.05016716143955491\n"
     ]
    }
   ],
   "source": [
    "# (b), compute the annual forward rate from year one to year two, i.e., f2\n",
    "f2 = (1+r02)**2/(1+r01) - 1\n",
    "print(f2)"
   ]
  },
  {
   "cell_type": "markdown",
   "id": "b616973e-2884-4d83-90b6-22d381245c3b",
   "metadata": {},
   "source": [
    "## Problem 18"
   ]
  },
  {
   "cell_type": "code",
   "execution_count": 2,
   "id": "62489878-7f3c-4bfa-bdde-ba622bd6d26d",
   "metadata": {},
   "outputs": [],
   "source": [
    "# prices for the following strips (principal = 100)\n",
    "# Bond A: maturity 1 year, price 95.92\n",
    "# Bond B: maturity 2 year, price 92.01\n",
    "# Bond C: maturity 3 year, price 87.00"
   ]
  },
  {
   "cell_type": "code",
   "execution_count": 5,
   "id": "5e9f63c2-a744-4a45-b533-c16e62079ad5",
   "metadata": {},
   "outputs": [
    {
     "name": "stdout",
     "output_type": "stream",
     "text": [
      "0.042535446205171024\n",
      "0.04251541337854259\n",
      "0.047514996428468015\n"
     ]
    }
   ],
   "source": [
    "# (a), determine the 1, 2 and 3yr spot interest rates from the given prices\n",
    "r01 = 100/95.92 - 1\n",
    "print(r01)\n",
    "\n",
    "r02 = (100/92.01)**0.5 - 1\n",
    "print(r02)\n",
    "\n",
    "r03 = (100/87.00)**(1.0/3.0) - 1\n",
    "print(r03)"
   ]
  },
  {
   "cell_type": "code",
   "execution_count": 9,
   "id": "751641d8-dc0b-47ed-afff-107c16ce8d45",
   "metadata": {},
   "outputs": [
    {
     "name": "stdout",
     "output_type": "stream",
     "text": [
      "0.057586206896551806\n"
     ]
    }
   ],
   "source": [
    "# (b), compute the annual forward rate from year two to year three, i.e., f_{2,3}\n",
    "f23 = ((1+r03)**3)/(1+r02)**2 - 1\n",
    "print(f23)"
   ]
  },
  {
   "cell_type": "code",
   "execution_count": 12,
   "id": "a3a4e716-3f3f-4f38-8ce0-43a619755064",
   "metadata": {},
   "outputs": [
    {
     "name": "stdout",
     "output_type": "stream",
     "text": [
      "99.99702500000001\n",
      "[0.04251583]\n"
     ]
    }
   ],
   "source": [
    "# (c), compute the yield to maturity of a 2yr coupon bond with a principal of 100 and a coupon rate\n",
    "# of 4.25%. Assume annual coupon payments\n",
    "\n",
    "# cashflow\n",
    "# year 1: 4.25\n",
    "# year 2: 4.25 + 100\n",
    "PV = 4.25/(1+r01) + (4.25+100)/(1+r02)**2\n",
    "print(PV)\n",
    "\n",
    "# note that PV = 4.25/(1+y) + (4.25+100)/(1+y)**2\n",
    "from scipy.optimize import fsolve\n",
    "\n",
    "def func(y):\n",
    "    return 4.25/(1+y) + (4.25+100.0)/(1+y)**2 - PV\n",
    "\n",
    "root = fsolve(func, 0.04)\n",
    "print(root)"
   ]
  },
  {
   "cell_type": "markdown",
   "id": "de075e97-55c0-49db-874c-d73420ef7627",
   "metadata": {},
   "source": [
    "## Problem 19"
   ]
  },
  {
   "cell_type": "code",
   "execution_count": 14,
   "id": "36bea9f4-5d88-43d6-897d-0b26e5b3bd4d",
   "metadata": {},
   "outputs": [],
   "source": [
    "# Following prices for the STRIPS\n",
    "# Maturity (yrs)\n",
    "# year 1: 97.56\n",
    "# year 2: 95.18\n",
    "# year 3: 92.86\n",
    "\n",
    "# short-term liabilities\n",
    "# $10MM year 1\n",
    "# $10MM year 2\n",
    "# $10MM year 3"
   ]
  },
  {
   "cell_type": "code",
   "execution_count": 19,
   "id": "a07e5b14-b41d-4e62-b4b3-da9c7cbf7946",
   "metadata": {},
   "outputs": [
    {
     "name": "stdout",
     "output_type": "stream",
     "text": [
      "0.02501025010250091\n",
      "0.025007751650432786\n",
      "0.024999783255299945\n",
      "-28.560000000000002\n"
     ]
    }
   ],
   "source": [
    "# (a), calculate the present value of the liability\n",
    "r01 = 100/97.56 - 1\n",
    "print(r01)\n",
    "\n",
    "r02 = (100/95.18)**0.5 - 1\n",
    "print(r02)\n",
    "\n",
    "r03 = (100/92.86)**(1.0/3.0) - 1\n",
    "print(r03)\n",
    "\n",
    "PV = -10/(1+r01) + -10/(1+r02)**2 + -10/(1+r03)**3\n",
    "print(PV)"
   ]
  },
  {
   "cell_type": "code",
   "execution_count": null,
   "id": "e5d9f59b-510e-4e2b-892a-69d9be1e11b5",
   "metadata": {},
   "outputs": [],
   "source": [
    "# (b), calculate the duration of your liability\n",
    "# The duration of liabilities is the average number of years it takes to pay off a debt."
   ]
  },
  {
   "cell_type": "code",
   "execution_count": null,
   "id": "ca84a46e-3d81-47a7-b158-a6bad86f9275",
   "metadata": {},
   "outputs": [],
   "source": []
  },
  {
   "cell_type": "markdown",
   "id": "e3ad2e9a-5087-4784-acce-0f613406eedb",
   "metadata": {},
   "source": [
    "## Problem 25"
   ]
  },
  {
   "cell_type": "code",
   "execution_count": 21,
   "id": "5fc2775b-8d4a-482e-b73c-f9b1e1f0e630",
   "metadata": {},
   "outputs": [],
   "source": [
    "# Spot Rates and Forward Transactions\n",
    "# Sps you have the following bonds, which pay coupons at the end of each year\n",
    "\n",
    "# 1yr Maturity, YTM 4%, coupon 4%\n",
    "# 2yr Maturity, YTM 4.2%, coupon 5%\n",
    "# 3yr Maturity, YTM 4.8%, coupon 5%"
   ]
  },
  {
   "cell_type": "code",
   "execution_count": 25,
   "id": "d1d87e07-9e4b-43c8-85b3-d977a4c1f79f",
   "metadata": {},
   "outputs": [
    {
     "name": "stdout",
     "output_type": "stream",
     "text": [
      "100.0\n",
      "101.50456268581385\n",
      "100.54669717551468\n"
     ]
    }
   ],
   "source": [
    "# (a), determine the price of each bond per $100 face value\n",
    "\n",
    "# 1yr Maturity, YTM 4%, coupon 4%\n",
    "# cashflow\n",
    "# 1yr: 100*0.04 + 100\n",
    "y1 = 0.04\n",
    "PV1 = (100*0.04 + 100) / (1+0.04)\n",
    "print(PV1)\n",
    "\n",
    "# 2yr Maturity, YTM 4.2%, coupon 5%\n",
    "# cashflow\n",
    "# 1yr: 100*0.05\n",
    "# 2yr: 100*0.05 + 100\n",
    "y2 = 0.042\n",
    "PV2 = (100*0.05)/(1+y2) + (100*0.05+100)/(1+y2)**2\n",
    "print(PV2)\n",
    "\n",
    "# 3yr Maturity, YTM 4.8%, coupon 5%\n",
    "# cashflow\n",
    "# 1yr: 100*0.05 \n",
    "# 2yr: 100*0.05\n",
    "# 3yr: 100*0.05\n",
    "y3 = 0.048\n",
    "PV3 = (100*0.05)/(1+y3) + (100*0.05)/(1+y3)**2 + (100*0.05+100)/(1+y3)**3\n",
    "print(PV3)"
   ]
  },
  {
   "cell_type": "code",
   "execution_count": 29,
   "id": "e2f4d51a-3e8b-416d-9a95-0783d3210723",
   "metadata": {},
   "outputs": [
    {
     "name": "stdout",
     "output_type": "stream",
     "text": [
      "0.040000000000000036\n",
      "0.04204971802700985\n",
      "0.048340424826289974\n"
     ]
    }
   ],
   "source": [
    "# (b), what are the spot rates for years 1, 2, and 3\n",
    "r01 = 104/100 - 1\n",
    "print(r01)\n",
    "\n",
    "# consider the following equation:\n",
    "# PV2 = 100*0.05 / (1+r01) + (100*0.05 + 100) / (1+r02)**2\n",
    "r02 = ((100*0.05 + 100)/(PV2 - 100*0.05 / (1+r01)) )**0.5 - 1\n",
    "print(r02)\n",
    "\n",
    "# PV3 = 100*0.05 / (1+r01) + (100*0.05)/ (1+r02)**2 + (100*0.05 + 100)/(1+r03)**3\n",
    "r03 = ((100*0.05 + 100) / (PV3 - 100*0.05 / (1+r01) - (100*0.05)/ (1+r02)**2))**(1.0/3.0) - 1\n",
    "print(r03)"
   ]
  }
 ],
 "metadata": {
  "kernelspec": {
   "display_name": "Python 3 (ipykernel)",
   "language": "python",
   "name": "python3"
  },
  "language_info": {
   "codemirror_mode": {
    "name": "ipython",
    "version": 3
   },
   "file_extension": ".py",
   "mimetype": "text/x-python",
   "name": "python",
   "nbconvert_exporter": "python",
   "pygments_lexer": "ipython3",
   "version": "3.12.3"
  }
 },
 "nbformat": 4,
 "nbformat_minor": 5
}
